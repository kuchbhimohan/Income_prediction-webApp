{
 "cells": [
  {
   "cell_type": "code",
   "execution_count": 2,
   "id": "fadfd24e",
   "metadata": {},
   "outputs": [],
   "source": [
    "import pandas as pd\n",
    "import seaborn as sns\n",
    "import matplotlib.pyplot as plt\n",
    "import numpy as np\n",
    "from scipy import stats"
   ]
  },
  {
   "cell_type": "code",
   "execution_count": 3,
   "id": "63d1671d",
   "metadata": {},
   "outputs": [],
   "source": [
    "df  = pd.read_csv(\"datasets/adult.csv\")"
   ]
  },
  {
   "cell_type": "code",
   "execution_count": null,
   "id": "d40bb2d5",
   "metadata": {
    "scrolled": true
   },
   "outputs": [],
   "source": [
    "df.head()"
   ]
  },
  {
   "cell_type": "code",
   "execution_count": null,
   "id": "626a5bbe",
   "metadata": {},
   "outputs": [],
   "source": [
    "df.shape"
   ]
  },
  {
   "cell_type": "code",
   "execution_count": null,
   "id": "8b6ffbc0",
   "metadata": {},
   "outputs": [],
   "source": [
    "## finding names of all columns\n",
    "col_list  = list(df.columns)\n",
    "col_list"
   ]
  },
  {
   "cell_type": "code",
   "execution_count": null,
   "id": "fd532f55",
   "metadata": {},
   "outputs": [],
   "source": [
    "# finding the datatype of each column\n",
    "(df.dtypes)"
   ]
  },
  {
   "cell_type": "code",
   "execution_count": null,
   "id": "8acdadc3",
   "metadata": {},
   "outputs": [],
   "source": [
    "# finding numerical and categorical columns\n",
    "categorical_columns = []\n",
    "numerical_columns = []\n",
    "\n",
    "\n",
    "for column in df.columns:\n",
    "    if df[column].dtype == 'object':  # Check if data type is object (categorical)\n",
    "        categorical_columns.append(column)\n",
    "    else:  # Otherwise, consider it as numerical\n",
    "        numerical_columns.append(column)"
   ]
  },
  {
   "cell_type": "code",
   "execution_count": null,
   "id": "bcf1ae31",
   "metadata": {},
   "outputs": [],
   "source": [
    "categorical_columns"
   ]
  },
  {
   "cell_type": "code",
   "execution_count": null,
   "id": "9943970e",
   "metadata": {},
   "outputs": [],
   "source": [
    "numerical_columns"
   ]
  },
  {
   "cell_type": "code",
   "execution_count": null,
   "id": "385c1afd",
   "metadata": {},
   "outputs": [],
   "source": [
    "print(f\"The number of catgeorical columns in the dataset is {len(categorical_columns)}\")"
   ]
  },
  {
   "cell_type": "code",
   "execution_count": null,
   "id": "4d9a1496",
   "metadata": {},
   "outputs": [],
   "source": [
    "print(f\"The number of numerical columns in the dataset is {len(numerical_columns)}\")"
   ]
  },
  {
   "cell_type": "code",
   "execution_count": null,
   "id": "b48ff98a",
   "metadata": {},
   "outputs": [],
   "source": [
    "df[categorical_columns].head()"
   ]
  },
  {
   "cell_type": "code",
   "execution_count": null,
   "id": "7bf6588a",
   "metadata": {},
   "outputs": [],
   "source": [
    "df['education'].unique()"
   ]
  },
  {
   "cell_type": "code",
   "execution_count": null,
   "id": "201aa0c5",
   "metadata": {},
   "outputs": [],
   "source": [
    "# there is an extra space in the values of categorical columns, so removing it\n",
    "for col in categorical_columns:\n",
    "    df[col] = df[col].str.strip()"
   ]
  },
  {
   "cell_type": "code",
   "execution_count": null,
   "id": "44d4a13c",
   "metadata": {},
   "outputs": [],
   "source": [
    "# Check if all categorical columns have no extra spaces\n",
    "for column in categorical_columns:\n",
    "    assert all(df[column].str.strip() == df[column]), f\"Column '{column}' has extra spaces.\"\n",
    "\n",
    "print(\"All categorical columns have no extra spaces.\")"
   ]
  },
  {
   "cell_type": "code",
   "execution_count": null,
   "id": "b4201083",
   "metadata": {
    "scrolled": true
   },
   "outputs": [],
   "source": [
    "fig, ax  = plt.subplots(figsize=(5,3))\n",
    "sns.heatmap(df.isnull(), yticklabels=False, ax= ax)\n",
    "plt.title('Missing Values Heatmap');"
   ]
  },
  {
   "cell_type": "markdown",
   "id": "5389814f",
   "metadata": {},
   "source": [
    "## There are no missing values present in the dataset"
   ]
  },
  {
   "cell_type": "code",
   "execution_count": null,
   "id": "e07c363f",
   "metadata": {},
   "outputs": [],
   "source": []
  },
  {
   "cell_type": "markdown",
   "id": "28b177a4",
   "metadata": {},
   "source": [
    "### Analysing and handling each feature"
   ]
  },
  {
   "cell_type": "markdown",
   "id": "5dd9e29c",
   "metadata": {},
   "source": [
    "## 1.Output Feature \"salary\""
   ]
  },
  {
   "cell_type": "code",
   "execution_count": null,
   "id": "51cd7cc3",
   "metadata": {},
   "outputs": [],
   "source": [
    "# encoding the classes in output feature\n",
    "df.loc[df['salary']=='<=50K','salary'] = 0\n",
    "df.loc[df['salary']=='>50K','salary'] = 1"
   ]
  },
  {
   "cell_type": "code",
   "execution_count": null,
   "id": "91b6bdef",
   "metadata": {},
   "outputs": [],
   "source": [
    "df['salary'].unique()"
   ]
  },
  {
   "cell_type": "code",
   "execution_count": null,
   "id": "1c835d30",
   "metadata": {},
   "outputs": [],
   "source": [
    "df['salary'].value_counts()"
   ]
  },
  {
   "cell_type": "code",
   "execution_count": null,
   "id": "f72e85b9",
   "metadata": {},
   "outputs": [],
   "source": []
  },
  {
   "cell_type": "markdown",
   "id": "5e522ccb",
   "metadata": {},
   "source": [
    "## 2.Age Feature"
   ]
  },
  {
   "cell_type": "code",
   "execution_count": null,
   "id": "6841e7ab",
   "metadata": {},
   "outputs": [],
   "source": [
    "df['age'].describe()"
   ]
  },
  {
   "cell_type": "code",
   "execution_count": null,
   "id": "27e514e1",
   "metadata": {},
   "outputs": [],
   "source": [
    "# checking the distrubution of age column\n",
    "sns.displot((df['age']), kde= True);"
   ]
  },
  {
   "cell_type": "markdown",
   "id": "15cdc7a6",
   "metadata": {},
   "source": [
    "The age data is not normally distributed so we have to handle the outliers present"
   ]
  },
  {
   "cell_type": "code",
   "execution_count": null,
   "id": "8767a02b",
   "metadata": {},
   "outputs": [],
   "source": [
    "df['age'].median()"
   ]
  },
  {
   "cell_type": "code",
   "execution_count": null,
   "id": "c3d72ad7",
   "metadata": {},
   "outputs": [],
   "source": [
    "df['age'].mean()"
   ]
  },
  {
   "cell_type": "code",
   "execution_count": null,
   "id": "80ee4235",
   "metadata": {},
   "outputs": [],
   "source": [
    "(df['age'] > 70).value_counts()"
   ]
  },
  {
   "cell_type": "code",
   "execution_count": null,
   "id": "76a701ea",
   "metadata": {},
   "outputs": [],
   "source": [
    "transformed_age, lambda_value = stats.boxcox(df['age'])"
   ]
  },
  {
   "cell_type": "code",
   "execution_count": null,
   "id": "d517a953",
   "metadata": {},
   "outputs": [],
   "source": [
    "sns.displot(transformed_age, kde= True, color=\"black\");"
   ]
  },
  {
   "cell_type": "code",
   "execution_count": null,
   "id": "081d48e0",
   "metadata": {},
   "outputs": [],
   "source": [
    "df['age_transformed'] = transformed_age"
   ]
  },
  {
   "cell_type": "code",
   "execution_count": null,
   "id": "5c5a3fe0",
   "metadata": {},
   "outputs": [],
   "source": [
    "df['age_transformed'].describe()"
   ]
  },
  {
   "cell_type": "code",
   "execution_count": null,
   "id": "41bb487f",
   "metadata": {},
   "outputs": [],
   "source": [
    "sns.boxplot(df['age_transformed'], orient=\"h\",color=\"black\")\n",
    "plt.title(\"Boxplot of the 'age'\");"
   ]
  },
  {
   "cell_type": "code",
   "execution_count": null,
   "id": "c2238991",
   "metadata": {},
   "outputs": [],
   "source": []
  },
  {
   "cell_type": "code",
   "execution_count": null,
   "id": "eb206344",
   "metadata": {},
   "outputs": [],
   "source": [
    "# columns\n",
    "df.columns"
   ]
  },
  {
   "cell_type": "code",
   "execution_count": null,
   "id": "3d609608",
   "metadata": {},
   "outputs": [],
   "source": []
  },
  {
   "cell_type": "markdown",
   "id": "8a6b6bea",
   "metadata": {},
   "source": [
    "### 2.Workclass column"
   ]
  },
  {
   "cell_type": "code",
   "execution_count": null,
   "id": "33d1eb26",
   "metadata": {},
   "outputs": [],
   "source": [
    "plt.figure(figsize=(15,4))\n",
    "sns.histplot(data=df['workclass'], x=df['workclass'], element=\"bars\",kde=True, color = \"purple\");"
   ]
  },
  {
   "cell_type": "code",
   "execution_count": null,
   "id": "d64b7fcb",
   "metadata": {},
   "outputs": [],
   "source": [
    "df['workclass'].value_counts()\n"
   ]
  },
  {
   "cell_type": "code",
   "execution_count": null,
   "id": "e165f8c7",
   "metadata": {},
   "outputs": [],
   "source": [
    "df['workclass'].unique()"
   ]
  },
  {
   "cell_type": "code",
   "execution_count": null,
   "id": "34aa3bfb",
   "metadata": {},
   "outputs": [],
   "source": [
    "(df['workclass'] == '?').sum()"
   ]
  },
  {
   "cell_type": "code",
   "execution_count": null,
   "id": "52306ea7",
   "metadata": {},
   "outputs": [],
   "source": []
  },
  {
   "cell_type": "code",
   "execution_count": null,
   "id": "6e334d38",
   "metadata": {},
   "outputs": [],
   "source": [
    "df.loc[df['workclass'] == '?','education'].value_counts()"
   ]
  },
  {
   "cell_type": "code",
   "execution_count": null,
   "id": "eee21d88",
   "metadata": {},
   "outputs": [],
   "source": [
    "df['workclass'].mode()[0]"
   ]
  },
  {
   "cell_type": "code",
   "execution_count": null,
   "id": "1416c8bd",
   "metadata": {},
   "outputs": [],
   "source": [
    "df['education'].unique()"
   ]
  },
  {
   "cell_type": "code",
   "execution_count": null,
   "id": "64878272",
   "metadata": {},
   "outputs": [],
   "source": [
    "df.loc[\n",
    "        (df['workclass'] == '?')\n",
    "        &\n",
    "            (\n",
    "                \n",
    "                (df['education'] == 'Preschool')\n",
    "        |       (df['education'] == '1st-4th')\n",
    "        |       (df['education'] == '5th-6th')\n",
    "            ),\n",
    "        'workclass'\n",
    "       ] = 'Never-worked'"
   ]
  },
  {
   "cell_type": "code",
   "execution_count": null,
   "id": "4c9c43dd",
   "metadata": {},
   "outputs": [],
   "source": [
    "df.loc[\n",
    "        (df['workclass'] == '?')\n",
    "    \n",
    "        &\n",
    "    \n",
    "            (\n",
    "                (df['education'] == '7th-8th')\n",
    "                |\n",
    "                (df['education'] == '9th')\n",
    "                |\n",
    "                (df['education'] == '10th')\n",
    "                |\n",
    "                (df['education'] == '11th')\n",
    "                |\n",
    "                (df['education'] == '12th')\n",
    "            )\n",
    "        ,\n",
    "        'workclass'\n",
    "       ] = 'Never-worked'"
   ]
  },
  {
   "cell_type": "code",
   "execution_count": null,
   "id": "16364b0b",
   "metadata": {},
   "outputs": [],
   "source": [
    "df['workclass'].value_counts()"
   ]
  },
  {
   "cell_type": "code",
   "execution_count": null,
   "id": "61bf83fd",
   "metadata": {},
   "outputs": [],
   "source": [
    "df.loc[\n",
    "        (df['workclass'] == '?')\n",
    "    \n",
    "        &\n",
    "    \n",
    "            (\n",
    "                (df['education'] == 'HS-grad')\n",
    "                |\n",
    "                (df['education'] == 'Some-college')\n",
    "            )\n",
    "        ,\n",
    "        'workclass'\n",
    "       ] = 'Without-pay'"
   ]
  },
  {
   "cell_type": "code",
   "execution_count": null,
   "id": "82eb2301",
   "metadata": {},
   "outputs": [],
   "source": [
    "df['workclass'].value_counts()"
   ]
  },
  {
   "cell_type": "code",
   "execution_count": null,
   "id": "72e68d8a",
   "metadata": {},
   "outputs": [],
   "source": [
    "df.loc[\n",
    "        (df['workclass'] == '?')\n",
    "    \n",
    "        &\n",
    "    \n",
    "            (\n",
    "                (df['education'] == 'Bachelors' )\n",
    "                |\n",
    "                (df['education'] == 'Assoc-acdm')\n",
    "                |\n",
    "                (df['education'] ==  'Assoc-voc')\n",
    "            )\n",
    "        ,\n",
    "        'workclass'\n",
    "       ] = 'Private'"
   ]
  },
  {
   "cell_type": "code",
   "execution_count": null,
   "id": "b4692fac",
   "metadata": {},
   "outputs": [],
   "source": [
    "df['workclass'].value_counts()"
   ]
  },
  {
   "cell_type": "code",
   "execution_count": null,
   "id": "4e11c156",
   "metadata": {},
   "outputs": [],
   "source": [
    "df.loc[df['workclass'] == '?','education'].value_counts().plot(kind=\"bar\", color=\"black\");"
   ]
  },
  {
   "cell_type": "code",
   "execution_count": null,
   "id": "8db6045c",
   "metadata": {},
   "outputs": [],
   "source": [
    "## occupation based on educational degrees\n",
    "df.loc[\n",
    "        (df['workclass'] != '?')\n",
    "        &\n",
    "            (\n",
    "                \n",
    "                (df['education'] == 'Prof-school')\n",
    "                |\n",
    "                (df['education'] == 'Masters')\n",
    "                |\n",
    "                (df['education'] == 'Doctorate')\n",
    "            )\n",
    "        \n",
    "    ,\n",
    "    'occupation'].value_counts()"
   ]
  },
  {
   "cell_type": "code",
   "execution_count": null,
   "id": "090b2a18",
   "metadata": {},
   "outputs": [],
   "source": [
    "## workclass according to diff occupations\n",
    "df.loc[\n",
    "        (df['workclass'] != '?')\n",
    "        &\n",
    "            (\n",
    "                \n",
    "                (df['occupation'] == 'Prof-specialty')\n",
    "                |\n",
    "                (df['occupation'] == 'Exec-managerial')\n",
    "            )\n",
    "        \n",
    "    ,\n",
    "    'workclass'].value_counts()"
   ]
  },
  {
   "cell_type": "markdown",
   "id": "86ee19b3",
   "metadata": {},
   "source": [
    "## This shows that most of prof speciality and exec manegerial are in private jobs\n"
   ]
  },
  {
   "cell_type": "code",
   "execution_count": null,
   "id": "71080407",
   "metadata": {},
   "outputs": [],
   "source": [
    "df.loc[\n",
    "        (df['workclass'] == '?')\n",
    "        &\n",
    "            (\n",
    "                (df['education'] == 'Prof-school')\n",
    "                |\n",
    "                (df['education'] == 'Masters')\n",
    "                |\n",
    "                (df['education'] == 'Doctorate')   \n",
    "            )\n",
    "        \n",
    "    ,\n",
    "    'workclass'] = 'Private'"
   ]
  },
  {
   "cell_type": "code",
   "execution_count": null,
   "id": "4898f10b",
   "metadata": {},
   "outputs": [],
   "source": [
    "df['workclass'].value_counts()"
   ]
  },
  {
   "cell_type": "code",
   "execution_count": null,
   "id": "e9e85bf5",
   "metadata": {},
   "outputs": [],
   "source": [
    "df['workclass'].value_counts(normalize=True).plot(kind=\"bar\", color=\"black\");"
   ]
  },
  {
   "cell_type": "code",
   "execution_count": null,
   "id": "683bbf9c",
   "metadata": {},
   "outputs": [],
   "source": [
    "df1  = df.copy()"
   ]
  },
  {
   "cell_type": "code",
   "execution_count": null,
   "id": "64429548",
   "metadata": {},
   "outputs": [],
   "source": [
    "df1.columns"
   ]
  },
  {
   "cell_type": "markdown",
   "id": "718972cf",
   "metadata": {},
   "source": [
    "### 3. fnlwgt column"
   ]
  },
  {
   "cell_type": "code",
   "execution_count": null,
   "id": "8b71e858",
   "metadata": {},
   "outputs": [],
   "source": [
    "df1['fnlwgt'].describe()"
   ]
  },
  {
   "cell_type": "code",
   "execution_count": null,
   "id": "51d32468",
   "metadata": {},
   "outputs": [],
   "source": [
    "(df1['fnlwgt']).hist(color=\"black\")"
   ]
  },
  {
   "cell_type": "code",
   "execution_count": null,
   "id": "3b370b18",
   "metadata": {},
   "outputs": [],
   "source": [
    "sns.boxplot(df1['fnlwgt'],orient=\"h\")"
   ]
  },
  {
   "cell_type": "code",
   "execution_count": null,
   "id": "62e04dc4",
   "metadata": {},
   "outputs": [],
   "source": [
    "sns.displot(np.log(df1['fnlwgt']), kde=True, bins=15)\n",
    "plt.title(\"Distribution of 'fnlwgt' after log transformation\");"
   ]
  },
  {
   "cell_type": "code",
   "execution_count": null,
   "id": "704a0eca",
   "metadata": {},
   "outputs": [],
   "source": [
    "df1['transformed_fnlwgt' ] = np.log(df1['fnlwgt'])"
   ]
  },
  {
   "cell_type": "code",
   "execution_count": null,
   "id": "6bd82dc9",
   "metadata": {},
   "outputs": [],
   "source": [
    "df1.shape"
   ]
  },
  {
   "cell_type": "markdown",
   "id": "6ba4ecdf",
   "metadata": {},
   "source": [
    "### 4.Education column\n"
   ]
  },
  {
   "cell_type": "code",
   "execution_count": null,
   "id": "b74e523c",
   "metadata": {},
   "outputs": [],
   "source": [
    "df1['education'].value_counts()"
   ]
  },
  {
   "cell_type": "code",
   "execution_count": null,
   "id": "fb56e8d1",
   "metadata": {},
   "outputs": [],
   "source": [
    "df1['education'].unique()"
   ]
  },
  {
   "cell_type": "markdown",
   "id": "6cf6cb98",
   "metadata": {},
   "source": [
    "### 5.Education-num column"
   ]
  },
  {
   "cell_type": "code",
   "execution_count": null,
   "id": "596ce5f3",
   "metadata": {},
   "outputs": [],
   "source": [
    "df1['education-num'].unique()"
   ]
  },
  {
   "cell_type": "code",
   "execution_count": null,
   "id": "02073c3b",
   "metadata": {},
   "outputs": [],
   "source": [
    "df1['education-num'].value_counts()"
   ]
  },
  {
   "cell_type": "code",
   "execution_count": null,
   "id": "1bdc0496",
   "metadata": {},
   "outputs": [],
   "source": [
    "# wecan drop the education column as education num has same info regarding education\n",
    "# df1 = df1.drop(columns=\"education\")"
   ]
  },
  {
   "cell_type": "code",
   "execution_count": null,
   "id": "e928493d",
   "metadata": {},
   "outputs": [],
   "source": [
    "df1.columns"
   ]
  },
  {
   "cell_type": "markdown",
   "id": "668f60ea",
   "metadata": {},
   "source": [
    "### 6.marital status"
   ]
  },
  {
   "cell_type": "code",
   "execution_count": null,
   "id": "f8f05b5c",
   "metadata": {},
   "outputs": [],
   "source": [
    "df1['marital-status'].value_counts()"
   ]
  },
  {
   "cell_type": "code",
   "execution_count": null,
   "id": "0b11d738",
   "metadata": {},
   "outputs": [],
   "source": [
    "df1['marital-status'].unique()"
   ]
  },
  {
   "cell_type": "code",
   "execution_count": null,
   "id": "cfe5c28a",
   "metadata": {},
   "outputs": [],
   "source": [
    "df1['marital-status'].value_counts(normalize=True).plot(kind = \"bar\", color=\"black\");"
   ]
  },
  {
   "cell_type": "code",
   "execution_count": null,
   "id": "6494849d",
   "metadata": {},
   "outputs": [],
   "source": [
    "grouped = df1.groupby('salary')['marital-status'].value_counts().unstack()\n",
    "\n",
    "# Plot the side-by-side bar chart\n",
    "custom_colors = ['#FF0000', '#00FF00', '#0000FF', '#FF00FF', '#00FFFF', '#FFFF00', '#FFA500']\n",
    "ax = grouped.plot(kind='bar', stacked=False, color=custom_colors)\n",
    "ax.legend(loc='center left', bbox_to_anchor=(1, 0.5))\n",
    "plt.xlabel('Marital Status')\n",
    "plt.ylabel('Count')\n",
    "plt.title('Count of Marital Status by Salary Category');\n"
   ]
  },
  {
   "cell_type": "code",
   "execution_count": null,
   "id": "dfd08398",
   "metadata": {},
   "outputs": [],
   "source": [
    "df2  = df1.copy()"
   ]
  },
  {
   "cell_type": "markdown",
   "id": "7c9eac2c",
   "metadata": {},
   "source": [
    "### 7.Occupation column"
   ]
  },
  {
   "cell_type": "code",
   "execution_count": null,
   "id": "db7e8a7c",
   "metadata": {},
   "outputs": [],
   "source": [
    "df2['occupation'].value_counts()"
   ]
  },
  {
   "cell_type": "code",
   "execution_count": null,
   "id": "5c0ace7f",
   "metadata": {},
   "outputs": [],
   "source": [
    "df2['occupation'].unique()"
   ]
  },
  {
   "cell_type": "markdown",
   "id": "8f63cd51",
   "metadata": {},
   "source": [
    "### now the task is to replace the \"?\" values in the ocuupation column"
   ]
  },
  {
   "cell_type": "code",
   "execution_count": null,
   "id": "1e66a45d",
   "metadata": {},
   "outputs": [],
   "source": [
    "df2.loc[df2['occupation'] == '?','education'].value_counts()"
   ]
  },
  {
   "cell_type": "markdown",
   "id": "a05d0377",
   "metadata": {},
   "source": [
    "### The rows where occupation has \"?\" in it, maximum of them are of younger persons in school or passed the college, or in college"
   ]
  },
  {
   "cell_type": "code",
   "execution_count": null,
   "id": "7a3ca2fd",
   "metadata": {},
   "outputs": [],
   "source": [
    "df2.loc[df2['occupation'] == '?','salary'].value_counts()"
   ]
  },
  {
   "cell_type": "markdown",
   "id": "c5b525c0",
   "metadata": {},
   "source": [
    "### This tells that the rows where occupation has '?' in it , has maximum of them salaries less than 50k"
   ]
  },
  {
   "cell_type": "code",
   "execution_count": null,
   "id": "751932b0",
   "metadata": {},
   "outputs": [],
   "source": [
    "df2.loc[(df2['occupation'] == 'Handlers-cleaners'), 'education'].value_counts() "
   ]
  },
  {
   "cell_type": "code",
   "execution_count": null,
   "id": "2cdf72f8",
   "metadata": {},
   "outputs": [],
   "source": [
    "df2.loc[(df2['occupation'] == 'Farming-fishing'), 'education'].value_counts() "
   ]
  },
  {
   "cell_type": "code",
   "execution_count": null,
   "id": "fdc24ffb",
   "metadata": {},
   "outputs": [],
   "source": [
    "df2.loc[(df2['occupation'] == 'Farming-fishing'), 'education'].value_counts() "
   ]
  },
  {
   "cell_type": "code",
   "execution_count": null,
   "id": "b4a76b3b",
   "metadata": {},
   "outputs": [],
   "source": [
    "df2.loc[(df2['occupation'] == 'Transport-moving'), 'education'].value_counts() "
   ]
  },
  {
   "cell_type": "code",
   "execution_count": null,
   "id": "30900a58",
   "metadata": {},
   "outputs": [],
   "source": [
    "df2.loc[(df2['occupation'] == 'Craft-repair'), 'education'].value_counts() "
   ]
  },
  {
   "cell_type": "code",
   "execution_count": null,
   "id": "a680c960",
   "metadata": {},
   "outputs": [],
   "source": [
    "df2.loc[df2['education'] == 'HS-grad','occupation'].value_counts()"
   ]
  },
  {
   "cell_type": "code",
   "execution_count": null,
   "id": "08c24834",
   "metadata": {},
   "outputs": [],
   "source": [
    "df2.loc[(df2['education'] == 'HS-grad') & (df2['occupation'] == \"?\"), 'occupation'] = 'Craft-repair'"
   ]
  },
  {
   "cell_type": "code",
   "execution_count": null,
   "id": "b0a35dc8",
   "metadata": {},
   "outputs": [],
   "source": [
    "df2.loc[df2['education'] == 'Some-college','occupation'].value_counts()"
   ]
  },
  {
   "cell_type": "code",
   "execution_count": null,
   "id": "924a2095",
   "metadata": {},
   "outputs": [],
   "source": [
    "df2.loc[(df2['education'] == 'Some-college') & (df2['occupation'] == \"?\"), 'occupation'] = 'Adm-clerical'"
   ]
  },
  {
   "cell_type": "code",
   "execution_count": null,
   "id": "9b9df1b1",
   "metadata": {},
   "outputs": [],
   "source": [
    "df2.loc[df2['education'] == 'Bachelors', 'occupation'].value_counts()"
   ]
  },
  {
   "cell_type": "code",
   "execution_count": null,
   "id": "fb1242c3",
   "metadata": {},
   "outputs": [],
   "source": [
    "df2.loc[(df2['education'] == 'Bachelors') & (df2['occupation'] == \"?\"), 'occupation'] = 'Prof-specialty'"
   ]
  },
  {
   "cell_type": "code",
   "execution_count": null,
   "id": "4ad0e072",
   "metadata": {},
   "outputs": [],
   "source": [
    "df2.loc[df2['occupation'] == '?', 'education'].value_counts()"
   ]
  },
  {
   "cell_type": "code",
   "execution_count": null,
   "id": "ac79b2f3",
   "metadata": {},
   "outputs": [],
   "source": [
    "df2.loc[(df2['education'] == \"11th\") | (df2['education'] == \"12th\") | (df2['education'] == '9th') | (df2['education'] == '10th') | (df2['education'] == '7th-8th') | (df2['education'] == '5th-6th') , 'occupation'].value_counts() "
   ]
  },
  {
   "cell_type": "code",
   "execution_count": null,
   "id": "1ca7c7e3",
   "metadata": {},
   "outputs": [],
   "source": [
    "df2.loc[((df2['education'] == \"11th\") | (df2['education'] == \"12th\") | (df2['education'] == '9th') | (df2['education'] == '10th') | (df2['education'] == '7th-8th') | (df2['education'] == '5th-6th')) & (df2['occupation'] == '?'), 'occupation'] = 'Other-service' "
   ]
  },
  {
   "cell_type": "code",
   "execution_count": null,
   "id": "327572c8",
   "metadata": {},
   "outputs": [],
   "source": [
    "df2['occupation'].value_counts()"
   ]
  },
  {
   "cell_type": "code",
   "execution_count": null,
   "id": "6083976c",
   "metadata": {},
   "outputs": [],
   "source": [
    "df2.loc[df2['occupation'] == '?', 'education'].value_counts()"
   ]
  },
  {
   "cell_type": "code",
   "execution_count": null,
   "id": "a1f7d417",
   "metadata": {},
   "outputs": [],
   "source": [
    "df2.loc[(df2['education'] == 'Assoc-acdm'), 'occupation'].value_counts()"
   ]
  },
  {
   "cell_type": "code",
   "execution_count": null,
   "id": "7de9ce5d",
   "metadata": {},
   "outputs": [],
   "source": [
    "df2.loc[(df2['education'] == 'Assoc-voc') & (df2['occupation'] == '?'), 'occupation'] = 'Craft-repair'\n",
    "df2.loc[((df2['education'] == 'Masters') | (df2['education'] == 'Prof-school') | (df2['education'] == 'Doctorate')) & (df2['occupation'] == '?') , 'occupation'] = 'Prof-specialty'\n",
    "df2.loc[(df2['education'] == 'Assoc-acdm') & (df2['occupation'] == '?'),'occupation'] = 'Adm-clerical'\n",
    "df2.loc[((df2['education'] == '1st-4th') | (df2['education'] == 'Preschool')) & (df2['occupation'] == '?'), 'occupation'] = 'Other-service'"
   ]
  },
  {
   "cell_type": "code",
   "execution_count": null,
   "id": "2897a27e",
   "metadata": {},
   "outputs": [],
   "source": [
    "df2['occupation'].value_counts()"
   ]
  },
  {
   "cell_type": "code",
   "execution_count": null,
   "id": "8db239e5",
   "metadata": {},
   "outputs": [],
   "source": []
  },
  {
   "cell_type": "code",
   "execution_count": null,
   "id": "7ceb9da9",
   "metadata": {},
   "outputs": [],
   "source": [
    "df2['occupation'].value_counts().plot(kind= \"bar\", color=\"black\")\n",
    "plt.title(\"Distribution of ocuupation\");"
   ]
  },
  {
   "cell_type": "code",
   "execution_count": null,
   "id": "0544c075",
   "metadata": {},
   "outputs": [],
   "source": [
    "(df2['occupation'].unique())"
   ]
  },
  {
   "cell_type": "code",
   "execution_count": null,
   "id": "38dc3d28",
   "metadata": {},
   "outputs": [],
   "source": [
    "# ## encoding the occupation column\n",
    "# df2['occupation'] = df2['occupation'].replace({'Priv-house-serv':0,'Handlers-cleaners':1,'Farming-fishing':2,\n",
    "#                                             'Other-service':3,'Adm-clerical':4,'Craft-repair':5, 'Machine-op-inspct':6,\n",
    "#                                             'Tech-support':7, 'Sales':8, 'Transport-moving':9, 'Protective-serv':10,\n",
    "#                                              'Prof-specialty':11, 'Exec-managerial':12, 'Armed-Forces':13\n",
    "#                                             })"
   ]
  },
  {
   "cell_type": "code",
   "execution_count": null,
   "id": "b5f6df15",
   "metadata": {},
   "outputs": [],
   "source": [
    "df2['occupation'].dtype"
   ]
  },
  {
   "cell_type": "markdown",
   "id": "b190631c",
   "metadata": {},
   "source": [
    "# finally the ocuupation column is cleaned "
   ]
  },
  {
   "cell_type": "markdown",
   "id": "57123b0d",
   "metadata": {},
   "source": [
    "## 8.Relationship"
   ]
  },
  {
   "cell_type": "code",
   "execution_count": null,
   "id": "57d92272",
   "metadata": {},
   "outputs": [],
   "source": [
    "df2['relationship'].unique()"
   ]
  },
  {
   "cell_type": "code",
   "execution_count": null,
   "id": "f816824e",
   "metadata": {},
   "outputs": [],
   "source": [
    "df2['relationship'].value_counts()"
   ]
  },
  {
   "cell_type": "code",
   "execution_count": null,
   "id": "980b18d4",
   "metadata": {},
   "outputs": [],
   "source": [
    "df2['relationship'].value_counts().plot(kind= \"bar\")"
   ]
  },
  {
   "cell_type": "code",
   "execution_count": null,
   "id": "7b13a206",
   "metadata": {},
   "outputs": [],
   "source": []
  },
  {
   "cell_type": "code",
   "execution_count": null,
   "id": "ded3276f",
   "metadata": {},
   "outputs": [],
   "source": [
    "grouped = df2.groupby('salary')['relationship'].value_counts().unstack()\n",
    "\n",
    "# Plot the side-by-side bar chart\n",
    "ax = grouped.plot(kind='bar', stacked=False)\n",
    "ax.legend(loc='center left', bbox_to_anchor=(1, 0.5))\n",
    "plt.xlabel('Relationship')\n",
    "plt.ylabel('Count')\n",
    "plt.title('Count of Relationship by Salary Category');\n"
   ]
  },
  {
   "cell_type": "markdown",
   "id": "afe911d9",
   "metadata": {},
   "source": [
    "##  9.Capital-gain"
   ]
  },
  {
   "cell_type": "code",
   "execution_count": null,
   "id": "da0c8ea9",
   "metadata": {},
   "outputs": [],
   "source": [
    "df2['capital-gain'].describe()"
   ]
  },
  {
   "cell_type": "code",
   "execution_count": null,
   "id": "69a5394b",
   "metadata": {},
   "outputs": [],
   "source": [
    "sns.displot(df2['capital-gain'], kde= True);"
   ]
  },
  {
   "cell_type": "code",
   "execution_count": null,
   "id": "8d6ed2f4",
   "metadata": {},
   "outputs": [],
   "source": [
    "sns.boxplot(df2['capital-gain'], orient=\"h\");"
   ]
  },
  {
   "cell_type": "code",
   "execution_count": null,
   "id": "287ef4e4",
   "metadata": {},
   "outputs": [],
   "source": [
    "## droping the feature \n",
    "df2  = df2.drop(columns='capital-gain')"
   ]
  },
  {
   "cell_type": "code",
   "execution_count": null,
   "id": "a8538158",
   "metadata": {},
   "outputs": [],
   "source": [
    "df2.shape"
   ]
  },
  {
   "cell_type": "markdown",
   "id": "afa62819",
   "metadata": {},
   "source": [
    "### 10.capital-loss column"
   ]
  },
  {
   "cell_type": "code",
   "execution_count": null,
   "id": "a0c34e81",
   "metadata": {},
   "outputs": [],
   "source": [
    "df2['capital-loss'].describe()"
   ]
  },
  {
   "cell_type": "code",
   "execution_count": null,
   "id": "73ed62cf",
   "metadata": {},
   "outputs": [],
   "source": [
    "sns.boxplot((df2['capital-loss']), orient=\"h\")"
   ]
  },
  {
   "cell_type": "code",
   "execution_count": null,
   "id": "9a5bcf36",
   "metadata": {},
   "outputs": [],
   "source": [
    "## dropping the column\n",
    "df2 = df2.drop(columns='capital-loss')"
   ]
  },
  {
   "cell_type": "code",
   "execution_count": null,
   "id": "f2e09d16",
   "metadata": {},
   "outputs": [],
   "source": [
    "df2.shape"
   ]
  },
  {
   "cell_type": "markdown",
   "id": "f62f7005",
   "metadata": {},
   "source": [
    "### 11. Hours per week"
   ]
  },
  {
   "cell_type": "code",
   "execution_count": null,
   "id": "e92f4b56",
   "metadata": {},
   "outputs": [],
   "source": [
    "df2['hours-per-week'].describe()"
   ]
  },
  {
   "cell_type": "code",
   "execution_count": null,
   "id": "e41c1a1d",
   "metadata": {},
   "outputs": [],
   "source": [
    "sns.boxplot(df2['hours-per-week'], orient=\"h\")\n"
   ]
  },
  {
   "cell_type": "code",
   "execution_count": null,
   "id": "58fa32b5",
   "metadata": {},
   "outputs": [],
   "source": [
    "df2.loc[df2['hours-per-week'] < 5, 'education']"
   ]
  },
  {
   "cell_type": "code",
   "execution_count": null,
   "id": "5bd22ac2",
   "metadata": {},
   "outputs": [],
   "source": [
    "df2['hours-per-week'].hist()"
   ]
  },
  {
   "cell_type": "code",
   "execution_count": null,
   "id": "c5ee0bbe",
   "metadata": {},
   "outputs": [],
   "source": [
    "sns.boxplot(df2['hours-per-week'], orient=\"h\")"
   ]
  },
  {
   "cell_type": "code",
   "execution_count": null,
   "id": "12ceb0c4",
   "metadata": {},
   "outputs": [],
   "source": [
    "df2['hours-per-week'].describe()"
   ]
  },
  {
   "cell_type": "code",
   "execution_count": null,
   "id": "43bdfa47",
   "metadata": {},
   "outputs": [],
   "source": []
  },
  {
   "cell_type": "markdown",
   "id": "2439fd3f",
   "metadata": {},
   "source": [
    "### 12.Country"
   ]
  },
  {
   "cell_type": "code",
   "execution_count": null,
   "id": "92f54706",
   "metadata": {},
   "outputs": [],
   "source": [
    "df2['country'].unique()"
   ]
  },
  {
   "cell_type": "code",
   "execution_count": null,
   "id": "3d1b79e2",
   "metadata": {},
   "outputs": [],
   "source": [
    "df2['country']  = df2['country'].str.strip()"
   ]
  },
  {
   "cell_type": "code",
   "execution_count": null,
   "id": "4979140a",
   "metadata": {},
   "outputs": [],
   "source": [
    "df2['country'].unique()"
   ]
  },
  {
   "cell_type": "code",
   "execution_count": null,
   "id": "55dc760c",
   "metadata": {},
   "outputs": [],
   "source": [
    "df2['country'].value_counts(normalize=True).plot(kind = \"bar\")"
   ]
  },
  {
   "cell_type": "markdown",
   "id": "29525443",
   "metadata": {},
   "source": [
    "# Maximum people are from united states"
   ]
  },
  {
   "cell_type": "code",
   "execution_count": null,
   "id": "e56d07e0",
   "metadata": {},
   "outputs": [],
   "source": [
    "df2['country'].value_counts()"
   ]
  },
  {
   "cell_type": "code",
   "execution_count": null,
   "id": "3c94dc45",
   "metadata": {},
   "outputs": [],
   "source": [
    "df2['country'].unique()"
   ]
  },
  {
   "cell_type": "code",
   "execution_count": null,
   "id": "d845add7",
   "metadata": {},
   "outputs": [],
   "source": [
    "df2['country'] = df2['country'].replace(\"?\",\"United-States\")"
   ]
  },
  {
   "cell_type": "code",
   "execution_count": null,
   "id": "a9e64841",
   "metadata": {},
   "outputs": [],
   "source": [
    "df2['country'].unique()"
   ]
  },
  {
   "cell_type": "code",
   "execution_count": null,
   "id": "137dd8b7",
   "metadata": {},
   "outputs": [],
   "source": [
    "## dropping the country column from the dataset\n",
    "df2  = df2.drop(columns = 'country')"
   ]
  },
  {
   "cell_type": "code",
   "execution_count": null,
   "id": "4a5791ec",
   "metadata": {},
   "outputs": [],
   "source": []
  },
  {
   "cell_type": "markdown",
   "id": "f82d97a5",
   "metadata": {},
   "source": [
    "## 13.Race"
   ]
  },
  {
   "cell_type": "code",
   "execution_count": null,
   "id": "9d25c172",
   "metadata": {},
   "outputs": [],
   "source": [
    "df2['race'].unique()"
   ]
  },
  {
   "cell_type": "code",
   "execution_count": null,
   "id": "2f11c48a",
   "metadata": {},
   "outputs": [],
   "source": [
    "df2['race'] = df2['race'].str.strip()"
   ]
  },
  {
   "cell_type": "code",
   "execution_count": null,
   "id": "85aacecf",
   "metadata": {},
   "outputs": [],
   "source": [
    "df2['race'].value_counts()"
   ]
  },
  {
   "cell_type": "code",
   "execution_count": null,
   "id": "fcd8b0c2",
   "metadata": {},
   "outputs": [],
   "source": [
    "df2['race'].value_counts().plot(kind = \"bar\");"
   ]
  },
  {
   "cell_type": "markdown",
   "id": "ce1d35e5",
   "metadata": {},
   "source": [
    "## most people in the dataset are white"
   ]
  },
  {
   "cell_type": "code",
   "execution_count": null,
   "id": "d6660648",
   "metadata": {},
   "outputs": [],
   "source": []
  },
  {
   "cell_type": "code",
   "execution_count": null,
   "id": "16b0752a",
   "metadata": {},
   "outputs": [],
   "source": [
    "grouped = df2.groupby('salary')['race'].value_counts().unstack()\n",
    "\n",
    "# Plot the side-by-side bar chart\n",
    "ax = grouped.plot(kind='bar', stacked=False)\n",
    "ax.legend(loc='center left', bbox_to_anchor=(1, 0.5))\n",
    "plt.xlabel('Race')\n",
    "plt.ylabel('Count')\n",
    "plt.title('Count of Race by Salary Category');\n"
   ]
  },
  {
   "cell_type": "code",
   "execution_count": null,
   "id": "d1325a1a",
   "metadata": {},
   "outputs": [],
   "source": []
  },
  {
   "cell_type": "code",
   "execution_count": null,
   "id": "994ca0e7",
   "metadata": {},
   "outputs": [],
   "source": []
  },
  {
   "cell_type": "markdown",
   "id": "e21b00f0",
   "metadata": {},
   "source": [
    "## 14. SEX"
   ]
  },
  {
   "cell_type": "code",
   "execution_count": null,
   "id": "90b929ed",
   "metadata": {},
   "outputs": [],
   "source": [
    "df2['sex'].unique()"
   ]
  },
  {
   "cell_type": "code",
   "execution_count": null,
   "id": "209798dd",
   "metadata": {},
   "outputs": [],
   "source": [
    "df2['sex'] = df2['sex'].str.strip()"
   ]
  },
  {
   "cell_type": "code",
   "execution_count": null,
   "id": "ef928041",
   "metadata": {},
   "outputs": [],
   "source": [
    "df2['sex'].value_counts()"
   ]
  },
  {
   "cell_type": "code",
   "execution_count": null,
   "id": "78d913c3",
   "metadata": {},
   "outputs": [],
   "source": [
    "grouped = df2.groupby('salary')['sex'].value_counts().unstack()\n",
    "\n",
    "# Plot the side-by-side bar chart\n",
    "ax = grouped.plot(kind='bar', stacked=False)\n",
    "ax.legend(loc='center left', bbox_to_anchor=(1, 0.5));"
   ]
  },
  {
   "cell_type": "code",
   "execution_count": null,
   "id": "55bda0a9",
   "metadata": {},
   "outputs": [],
   "source": []
  },
  {
   "cell_type": "code",
   "execution_count": null,
   "id": "2531d25e",
   "metadata": {},
   "outputs": [],
   "source": [
    "df2['salary'].value_counts().plot(kind= \"bar\", color = \"black\")\n",
    "plt.title(\"Salary classes and their distribution\");"
   ]
  },
  {
   "cell_type": "markdown",
   "id": "77f20a7a",
   "metadata": {},
   "source": [
    "### 0 represents the class with salary less than 50k \n",
    "### 1 represents class with more than 50k salary"
   ]
  },
  {
   "cell_type": "code",
   "execution_count": null,
   "id": "78a23d11",
   "metadata": {},
   "outputs": [],
   "source": []
  },
  {
   "cell_type": "markdown",
   "id": "c7b1e4ad",
   "metadata": {},
   "source": [
    "# Correlations among the columns"
   ]
  },
  {
   "cell_type": "code",
   "execution_count": null,
   "id": "38da6de9",
   "metadata": {},
   "outputs": [],
   "source": [
    "df2.corr()"
   ]
  },
  {
   "cell_type": "code",
   "execution_count": null,
   "id": "4e44c31f",
   "metadata": {},
   "outputs": [],
   "source": [
    "sns.heatmap(df2.corr(), annot=True);"
   ]
  },
  {
   "cell_type": "code",
   "execution_count": null,
   "id": "6e3a5dbf",
   "metadata": {},
   "outputs": [],
   "source": []
  },
  {
   "cell_type": "code",
   "execution_count": null,
   "id": "be81a781",
   "metadata": {},
   "outputs": [],
   "source": []
  },
  {
   "cell_type": "markdown",
   "id": "baae49bc",
   "metadata": {},
   "source": [
    "## mean age of peoples from different salary classes"
   ]
  },
  {
   "cell_type": "code",
   "execution_count": null,
   "id": "a6261735",
   "metadata": {},
   "outputs": [],
   "source": [
    "d1  = df2[[\"age\", \"salary\"]].groupby([\"salary\"], as_index=False).mean().rename(columns={\"age\": \"mean age\"})\n",
    "d1\n"
   ]
  },
  {
   "cell_type": "code",
   "execution_count": null,
   "id": "666d14db",
   "metadata": {},
   "outputs": [],
   "source": [
    "d2 = df2[[\"age_transformed\", \"salary\"]].groupby([\"salary\"], as_index=False).mean().rename(columns={\"age_transformed\": \"mean age_transformed\"})\n",
    "d2"
   ]
  },
  {
   "cell_type": "markdown",
   "id": "fd6f3dfa",
   "metadata": {},
   "source": [
    "## This shows that persons with less than 50k salary are younger than persons with more than 50k salary, which is quite obvious becoz as exp increases in jobs, salary also increases"
   ]
  },
  {
   "cell_type": "code",
   "execution_count": null,
   "id": "9dfe45b0",
   "metadata": {},
   "outputs": [],
   "source": [
    "sns.barplot(x=\"salary\", y=\"mean age\", data = d1)\n",
    "plt.title(\"distribution of different salary classes by mean age\");"
   ]
  },
  {
   "cell_type": "code",
   "execution_count": null,
   "id": "727e6a21",
   "metadata": {},
   "outputs": [],
   "source": [
    "df2.columns"
   ]
  },
  {
   "cell_type": "code",
   "execution_count": null,
   "id": "33a7218b",
   "metadata": {},
   "outputs": [],
   "source": [
    "df2.shape"
   ]
  },
  {
   "cell_type": "code",
   "execution_count": null,
   "id": "8e0c76cb",
   "metadata": {},
   "outputs": [],
   "source": [
    "plt.scatter(x=df2['salary'], y=df2['age']);\n",
    "plt.ylabel(\"age\")\n",
    "plt.xlabel(\"salary\")"
   ]
  },
  {
   "cell_type": "code",
   "execution_count": null,
   "id": "c07ee6fa",
   "metadata": {},
   "outputs": [],
   "source": [
    "df2['age'].corr(df['age_transformed'])"
   ]
  },
  {
   "cell_type": "code",
   "execution_count": null,
   "id": "606eb6ba",
   "metadata": {},
   "outputs": [],
   "source": [
    "df2.shape"
   ]
  },
  {
   "cell_type": "code",
   "execution_count": null,
   "id": "3737bbb8",
   "metadata": {},
   "outputs": [],
   "source": [
    "df2.columns"
   ]
  },
  {
   "cell_type": "code",
   "execution_count": null,
   "id": "4895ff86",
   "metadata": {},
   "outputs": [],
   "source": [
    "df2['race'].value_counts()"
   ]
  },
  {
   "cell_type": "code",
   "execution_count": null,
   "id": "c4490e60",
   "metadata": {},
   "outputs": [],
   "source": [
    "df2.drop(columns=\"race\", inplace=True)"
   ]
  },
  {
   "cell_type": "code",
   "execution_count": null,
   "id": "26a45540",
   "metadata": {},
   "outputs": [],
   "source": [
    "df2.columns"
   ]
  },
  {
   "cell_type": "code",
   "execution_count": null,
   "id": "7dbb6823",
   "metadata": {},
   "outputs": [],
   "source": [
    "df2.drop(columns=[\"age_transformed\", \"transformed_fnlwgt\"], inplace=True)"
   ]
  },
  {
   "cell_type": "code",
   "execution_count": null,
   "id": "e482bde8",
   "metadata": {},
   "outputs": [],
   "source": [
    "df2.columns"
   ]
  },
  {
   "cell_type": "code",
   "execution_count": null,
   "id": "b77f1fca",
   "metadata": {},
   "outputs": [],
   "source": [
    "df2.shape"
   ]
  },
  {
   "cell_type": "code",
   "execution_count": null,
   "id": "483fe720",
   "metadata": {},
   "outputs": [],
   "source": [
    "df2.drop(columns=\"education-num\", inplace = True)"
   ]
  },
  {
   "cell_type": "code",
   "execution_count": null,
   "id": "3bfa398c",
   "metadata": {
    "scrolled": false
   },
   "outputs": [],
   "source": [
    "df2.head()"
   ]
  },
  {
   "cell_type": "code",
   "execution_count": null,
   "id": "7f2d8039",
   "metadata": {},
   "outputs": [],
   "source": [
    "df2.shape"
   ]
  },
  {
   "cell_type": "code",
   "execution_count": 4,
   "id": "3bc3e1d3",
   "metadata": {},
   "outputs": [
    {
     "ename": "NameError",
     "evalue": "name 'df2' is not defined",
     "output_type": "error",
     "traceback": [
      "\u001b[1;31m---------------------------------------------------------------------------\u001b[0m",
      "\u001b[1;31mNameError\u001b[0m                                 Traceback (most recent call last)",
      "Cell \u001b[1;32mIn[4], line 1\u001b[0m\n\u001b[1;32m----> 1\u001b[0m cleaned_df  \u001b[39m=\u001b[39m df2\u001b[39m.\u001b[39mto_csv(\u001b[39m\"\u001b[39m\u001b[39mdatasets/cleaned_datasets/cleaned_phase1\u001b[39m\u001b[39m\"\u001b[39m)\n",
      "\u001b[1;31mNameError\u001b[0m: name 'df2' is not defined"
     ]
    }
   ],
   "source": [
    "cleaned_df  = df2.to_csv(\"datasets/cleaned_datasets/cleaned_phase1\")"
   ]
  },
  {
   "cell_type": "code",
   "execution_count": null,
   "id": "4e62343c",
   "metadata": {},
   "outputs": [],
   "source": []
  },
  {
   "cell_type": "code",
   "execution_count": null,
   "id": "503ff1a2",
   "metadata": {},
   "outputs": [],
   "source": []
  },
  {
   "cell_type": "code",
   "execution_count": null,
   "id": "fdfdc8c4",
   "metadata": {},
   "outputs": [],
   "source": []
  },
  {
   "cell_type": "code",
   "execution_count": null,
   "id": "06ff758a",
   "metadata": {},
   "outputs": [],
   "source": []
  },
  {
   "cell_type": "code",
   "execution_count": null,
   "id": "57f61387",
   "metadata": {},
   "outputs": [],
   "source": []
  }
 ],
 "metadata": {
  "kernelspec": {
   "display_name": "Python 3 (ipykernel)",
   "language": "python",
   "name": "python3"
  },
  "language_info": {
   "codemirror_mode": {
    "name": "ipython",
    "version": 3
   },
   "file_extension": ".py",
   "mimetype": "text/x-python",
   "name": "python",
   "nbconvert_exporter": "python",
   "pygments_lexer": "ipython3",
   "version": "3.8.17"
  }
 },
 "nbformat": 4,
 "nbformat_minor": 5
}
